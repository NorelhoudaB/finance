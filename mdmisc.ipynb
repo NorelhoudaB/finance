import spacy
import pdfplumber

model = spacy.load('fr_core_news_md')

with pdfplumber.open("/kaggle/input/pdfsds/PDFs/q4-2021-media-release-fr.pdf") as pdf:
    text = ""
    for page in pdf.pages:
        text += page.extract_text()

doc = model(text)

for ent in doc.ents:
    if ent.label_ == "MISC":
        print(f"Entity: {ent.text}, Label: {ent.label_}")
# finwords=["Chiffre d’affaires net","Free cash","Résultat opérationnel","Résultat net core","BPA core"]
