import fitz #PyMuPDF
import os
from PIL import Image
import matplotlib.pyplot as plt
import random
import cv2
import spacy

model = spacy.load('fr_core_news_md')
text = """
Le Chiffre d'affaires a augmenté cette année.
Hausse du chiffre d’affaires net des activités poursuivies1 de 9% sur l’exercice entier (tcc2, 
+6% USD). Pharmaceuticals: cette unité opérationnelle progresse de 12% (tcc), sous l’impulsion de 
Cosentyx qui a récolté USD 3,6 milliards (+28% tcc), d’Entresto, USD 1,7 milliard (+71% tcc) et 
de Zolgensma, USD 361 millions.
Le résultat net de l'entreprise est positif.
Le free cash-flow a été solide malgré les incertitudes économiques.
L'impôt sur les sociétés a été calculé en fonction des gains.
Le passif de l'entreprise a évolué au fil du temps.
Les capitaux propres ont permis une croissance significative.
Le résultat d’exploitation est un indicateur clé de performance.
Les dettes de l'entreprise ont diminué après refinancement.
Les flux de trésorerie sont surveillés de près.
La période de consolidation est terminée.
 Les comptes annuels qui vous sont soumis sont établis selon 
les formes et méthodes d’évaluation prescrites par les textes 
en vigueur et précisées dans l’annexe.
 Celles-ci n’ont pas été modifiées par rapport à l’exercice précédent. 
Sur l’exercice, le chiffre d’affaires net ressort à 135 166 milliers d’euros 
et se répartit comme suit :
Note 17 : Produits (charges) nets des autres activités
 En millions d'euros 06/2011 06/2010 12/2010
 Autres produits d'exploitation bancaire 302 261 534 
Prestations accessoires aux contrats de financement 166 179 336 
Produits des activités de services 89 42 115 
Produits liés aux fins de contrats de location non-douteux 31 32 60 
    dont reprise de dépréciation des valeurs résiduelles 1   7   8   
Autres produits d'exploitation bancaire 16 8 23 
    dont reprise de provisions pour risques bancaires 5   4   
Autres charges d'exploitation bancaire (203) (163) (395)
 Coûts des prestations accessoires aux contrats de financements (81) (74) (165)
 Coûts des activités de services (59) (24) (75)
 Charges liées aux fins de contrats de location non-douteux (27) (26) (58)
    dont dotation de dépréciation des valeurs résiduelles (3)  (3)  (7)  
Coûts de distribution non assimilables à des intérêts (25) (30) (75)
 Autres charges d'exploitation bancaire (11) (9) (22)
    dont dotation aux provisions pour risques bancaires (1)  (6)  
Autres produits et charges d'exploitation non bancaire 1 2 11 
Autres produits d'exploitation non bancaire 5 5 20 
Autres charges d'exploitation non bancaire (4) (3) (9)
 Total des produits et charges nets des autres activités (*) 100 100 150 
    (*) Dont entreprises liées (1) (1) (1)
 
Les prestations et les coûts des prestations accessoires aux contrats de financement ainsi que les produits et les coûts 
des activités de services se rapportent principalement à des prestations d'assurance e et t  d'entretien. . 
Les produits et les coûts des activités de services comprennent les produits et les charges comptabilisés a
 Par familles de produits %
 Sorties de toit et accessoires 7
 Conduits à double paroi 60
 Conduits à simple paroi et conduits flexibles 23
 Autres produits 10
 TOTAL
"""

keywords = ["chiffre", 
    "net",
    "Résultat net", 
    "free cash-flow", 
    "impôt", 
    "Passif", 
    "Actif", 
    "Capitaux propres", 
    "Résultat d’exploitation", 
    "dettes", 
    "flux", 
    "période",
     "%"
           ]

doc = model(text)

for sent in doc.sents:
    if any(keyword in " ".join([token.lemma_ for token in sent]) for keyword in keywords):
        print(f"Found in sentence: {sent.text}")
