!pip install pdfplumber

import pdfplumber

# Lire un fichier PDF
with pdfplumber.open("rapport_financier.pdf") as pdf:
    text = ""
    for page in pdf.pages:
        text += page.extract_text()

# Appliquer le pipeline NLP sur le texte extrait
doc = nlp(text)

# Afficher les entités nommées
for ent in doc.ents:
    print(f"Entity: {ent.text}, Label: {ent.label_}")
